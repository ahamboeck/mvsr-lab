{
 "cells": [
  {
   "cell_type": "code",
   "execution_count": 15,
   "metadata": {},
   "outputs": [],
   "source": [
    "import matplotlib.pyplot as plt\n",
    "import tensorflow as tf\n",
    "import numpy as np\n",
    "import cv2 as cv\n",
    "import os"
   ]
  },
  {
   "cell_type": "code",
   "execution_count": 16,
   "metadata": {},
   "outputs": [
    {
     "data": {
      "text/plain": [
       "'2.15.0'"
      ]
     },
     "execution_count": 16,
     "metadata": {},
     "output_type": "execute_result"
    }
   ],
   "source": [
    "tf.__version__"
   ]
  },
  {
   "cell_type": "code",
   "execution_count": 17,
   "metadata": {},
   "outputs": [],
   "source": [
    "\"\"\"Define the path to the training data\"\"\" \n",
    "train_dict = '../data/train/train_images/'\n",
    "output_dir = '../data/train/outputs/'\n",
    "snippets_dir = '../data/train/snippets/'"
   ]
  },
  {
   "cell_type": "code",
   "execution_count": 18,
   "metadata": {},
   "outputs": [],
   "source": [
    "\"\"\"Create an image array from the training data and smooth the images\"\"\"\n",
    "images = []\n",
    "gray_images = []\n",
    "for filename in os.listdir(train_dict):\n",
    "    img_path = os.path.join(train_dict, filename)\n",
    "    img = cv.imread(img_path)\n",
    "\n",
    "    if img is not None:\n",
    "        # Convert the image to grayscale\n",
    "        gray = cv.cvtColor(img, cv.COLOR_BGR2GRAY)\n",
    "\n",
    "        # Apply Gaussian blur to the grayscale image\n",
    "        blurred = cv.GaussianBlur(gray, (5, 5), 0)  # Apply the first Gaussian blur with kernel size 5x5\n",
    "\n",
    "        # Add the original image and the blurred grayscale image to their respective lists\n",
    "        images.append(img)\n",
    "        gray_images.append(blurred)  # Use 'blurred_twice' if two blurs are applied, otherwise use 'blurred'"
   ]
  },
  {
   "cell_type": "code",
   "execution_count": 19,
   "metadata": {},
   "outputs": [],
   "source": [
    "\"\"\"Thresholding all the gray images\"\"\"\n",
    "thresholded_images = []\n",
    "for gray in gray_images:\n",
    "    _, thresh = cv.threshold(gray, 0, 255, cv.THRESH_BINARY + cv.THRESH_OTSU)\n",
    "    thresholded_images.append(thresh)"
   ]
  },
  {
   "cell_type": "code",
   "execution_count": 20,
   "metadata": {},
   "outputs": [],
   "source": [
    "\"\"\"Save all the thresholded images\"\"\"\n",
    "for i, thresh in enumerate(thresholded_images):\n",
    "    cv.imwrite(output_dir + 'thresh' + str(i) + '.png', thresh)"
   ]
  },
  {
   "cell_type": "code",
   "execution_count": 21,
   "metadata": {},
   "outputs": [],
   "source": [
    "\"\"\"Find the contours of the thresholded images\"\"\"\n",
    "contours_list = []\n",
    "for thresh in thresholded_images:\n",
    "    contours_list.append(cv.findContours(thresh, cv.RETR_LIST, cv.CHAIN_APPROX_SIMPLE))"
   ]
  },
  {
   "cell_type": "code",
   "execution_count": 22,
   "metadata": {},
   "outputs": [
    {
     "name": "stdout",
     "output_type": "stream",
     "text": [
      "9\n"
     ]
    }
   ],
   "source": [
    "\"\"\"Print length of the contours list\"\"\"\n",
    "print(len(contours_list[0][0]))"
   ]
  },
  {
   "cell_type": "code",
   "execution_count": 23,
   "metadata": {},
   "outputs": [],
   "source": [
    "\"\"\"Draw the contours on the original images\"\"\"\n",
    "contour_images = []\n",
    "for i, img in enumerate(images):\n",
    "    # contour_img = cv.drawContours(img, contours_list[i][0], -1, (0, 255, 0), 3)\n",
    "    contour_img = img\n",
    "    contour_images.append(contour_img)"
   ]
  },
  {
   "cell_type": "code",
   "execution_count": 24,
   "metadata": {},
   "outputs": [],
   "source": [
    "\"\"\"Save the images with the drawn contour\"\"\"\n",
    "for i, contour_img in enumerate(contour_images):\n",
    "    cv.imwrite(output_dir + 'contour' + str(i) + '.png', contour_img)"
   ]
  },
  {
   "cell_type": "code",
   "execution_count": 25,
   "metadata": {},
   "outputs": [],
   "source": [
    "\"\"\"Initialize a list to keep track of filenames and placeholders for classes\"\"\"\n",
    "image_descriptions = []"
   ]
  },
  {
   "cell_type": "code",
   "execution_count": 26,
   "metadata": {},
   "outputs": [],
   "source": [
    "\"\"\"Define the desired size for all output images\"\"\"\n",
    "desired_dim = (150, 150)"
   ]
  },
  {
   "cell_type": "code",
   "execution_count": 27,
   "metadata": {},
   "outputs": [],
   "source": [
    "\"\"\"Loop through each contour in the contours list\"\"\"\n",
    "for i, contours in enumerate(contours_list):\n",
    "    for j, contour in enumerate(contours[0]):\n",
    "        \"\"\"Get the bounding rectangle of the contour\"\"\"\n",
    "        x, y, w, h = cv.boundingRect(contour)\n",
    "        \"\"\"Crop the image to the bounding rectangle\"\"\"\n",
    "        cropped_img = gray_images[i][y:y+h, x:x+w]\n",
    "        \"\"\"Resize the cropped image to the desired dimensions\"\"\"\n",
    "        resized_img = cv.resize(cropped_img, desired_dim)\n",
    "        \"\"\"Save the resized image\"\"\"\n",
    "        cv.imwrite(output_dir + 'resized' + str(i) + '_' + str(j) + '.png', resized_img)\n",
    "        \"\"\"Add the filename to the image descriptions list\"\"\"\n",
    "        image_descriptions.append('resized' + str(i) + '_' + str(j) + '.npy')\n",
    "        \"\"\"Save it as a .npy file\"\"\"\n",
    "        np.save(snippets_dir + 'resized' + str(i) + '_' + str(j) + '.npy', resized_img)"
   ]
  },
  {
   "cell_type": "code",
   "execution_count": 28,
   "metadata": {},
   "outputs": [],
   "source": [
    "# Write descriptions to a text file\n",
    "description_filepath = os.path.join(output_dir, 'image_descriptions.txt')\n",
    "with open(description_filepath, 'w') as f:\n",
    "    for description in image_descriptions:\n",
    "        f.write(description + \",0\" + '\\n')"
   ]
  }
 ],
 "metadata": {
  "kernelspec": {
   "display_name": "open-cv-keras",
   "language": "python",
   "name": "python3"
  },
  "language_info": {
   "codemirror_mode": {
    "name": "ipython",
    "version": 3
   },
   "file_extension": ".py",
   "mimetype": "text/x-python",
   "name": "python",
   "nbconvert_exporter": "python",
   "pygments_lexer": "ipython3",
   "version": "3.11.9"
  }
 },
 "nbformat": 4,
 "nbformat_minor": 2
}
